{
 "cells": [
  {
   "cell_type": "markdown",
   "metadata": {},
   "source": [
    "### sprint 1\n",
    " download data set and import them"
   ]
  },
  {
   "cell_type": "code",
   "execution_count": 9,
   "metadata": {},
   "outputs": [],
   "source": [
    "# import statements \n",
    "from tensorflow.keras.preprocessing.image import ImageDataGenerator\n"
   ]
  },
  {
   "cell_type": "code",
   "execution_count": 10,
   "metadata": {},
   "outputs": [],
   "source": [
    "#importing data set\n",
    "train_datagen = ImageDataGenerator(\n",
    "    rescale=1/255, shear_range=0.2, zoom_range=0.2, horizontal_flip=True)\n",
    "test_datagen = ImageDataGenerator(rescale=1/255)\n"
   ]
  },
  {
   "cell_type": "code",
   "execution_count": 11,
   "metadata": {},
   "outputs": [
    {
     "name": "stdout",
     "output_type": "stream",
     "text": [
      "Found 3662 images belonging to 5 classes.\n",
      "Found 734 images belonging to 5 classes.\n"
     ]
    }
   ],
   "source": [
    "training_set = train_datagen.flow_from_directory(\n",
    "    \"../../dataset\\\\preprocessed dataset\\\\preprocessed dataset\\\\training\", target_size=(299, 299), batch_size=32, class_mode='categorical')\n",
    "\n",
    "test_set = train_datagen.flow_from_directory(\n",
    "    \"../../dataset\\\\preprocessed dataset\\\\preprocessed dataset\\\\testing\", target_size=(299, 299), batch_size=32, class_mode='categorical')\n"
   ]
  }
 ],
 "metadata": {
  "kernelspec": {
   "display_name": "Python 3.9.7 ('env': venv)",
   "language": "python",
   "name": "python3"
  },
  "language_info": {
   "codemirror_mode": {
    "name": "ipython",
    "version": 3
   },
   "file_extension": ".py",
   "mimetype": "text/x-python",
   "name": "python",
   "nbconvert_exporter": "python",
   "pygments_lexer": "ipython3",
   "version": "3.9.7"
  },
  "orig_nbformat": 4,
  "vscode": {
   "interpreter": {
    "hash": "335bb0bcda8171ef30af8dc9ed240b4bb2ced40430f7df00466f2241491d8324"
   }
  }
 },
 "nbformat": 4,
 "nbformat_minor": 2
}
